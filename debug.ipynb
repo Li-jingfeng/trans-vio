{
 "cells": [
  {
   "cell_type": "code",
   "execution_count": 6,
   "metadata": {},
   "outputs": [
    {
     "data": {
      "text/plain": [
       "torch.Size([81920, 2, 511])"
      ]
     },
     "execution_count": 6,
     "metadata": {},
     "output_type": "execute_result"
    }
   ],
   "source": [
    "import torch\n",
    "x = torch.ones(81920,2,512)\n",
    "y = torch.ones(1,2,512)\n",
    "x[:,:,1:].shape\n",
    "# z = x+y\n",
    "# print(z)"
   ]
  },
  {
   "cell_type": "code",
   "execution_count": null,
   "metadata": {},
   "outputs": [],
   "source": [
    "import torch\n",
    "from einops import rearrange\n",
    "\n",
    "a0 = torch.zeros(2,1,3,3)\n",
    "a1 = torch.ones(2,1,3,3)\n",
    "\n",
    "input = torch.cat([a0,a1],dim=1)\n",
    "out1 = rearrange(input, 'b t n d -> b (t n) d')\n",
    "out2 = rearrange(out1, 'b (t n) d -> b t n d',t=2,n=3)\n",
    "\n",
    "print('input',input)\n",
    "# print('out1',out1)\n",
    "print('out2',out2)\n"
   ]
  },
  {
   "cell_type": "code",
   "execution_count": 7,
   "metadata": {},
   "outputs": [
    {
     "name": "stdout",
     "output_type": "stream",
     "text": [
      "0\n"
     ]
    }
   ],
   "source": [
    "pre = None\n",
    "a = None\n",
    "if pre and a is None:\n",
    "    print(1)\n",
    "else:\n",
    "    print(0)"
   ]
  },
  {
   "cell_type": "code",
   "execution_count": null,
   "metadata": {},
   "outputs": [],
   "source": [
    "import matplotlib.pyplot as plt\n",
    "import numpy as np\n",
    "pose_abs, pose_rel = read_pose_from_text(\"/data/lijingfeng/pro/Visual-Selective-VIO/data/poses/05.txt\")\n",
    "pose_abs = np.array(pose_abs)\n",
    "pose_rel = np.array(pose_rel)\n",
    "x = pose_abs[:,0,3]\n",
    "y = pose_abs[:,1,3]\n",
    "z = pose_abs[:,2,3]\n",
    "\n",
    "#画图\n",
    "style_gt = 'r-'\n",
    "style_O = 'ko'\n",
    "plot_keys = [\"Ground Truth\", \"Ours\"]\n",
    "plt.plot(x, z, style_gt, label=plot_keys[0])\n",
    "start_point = [0, 0]\n",
    "ax = plt.gca()\n",
    "plt.plot(start_point[0], start_point[1], style_O, label='Start Point')\n",
    "plt.legend(loc=\"upper right\", prop={'size': 10})\n",
    "plt.xlabel('x (m)', fontsize=10)\n",
    "plt.ylabel('z (m)', fontsize=10)\n",
    "xlim = ax.get_xlim()\n",
    "ylim = ax.get_ylim()\n",
    "xmean = np.mean(xlim)\n",
    "ymean = np.mean(ylim)\n",
    "plot_radius = max([abs(lim - mean_)\n",
    "                   for lims, mean_ in ((xlim, xmean),\n",
    "                                       (ylim, ymean))\n",
    "                   for lim in lims])\n",
    "ax.set_xlim([xmean - plot_radius, xmean + plot_radius])\n",
    "ax.set_ylim([ymean - plot_radius, ymean + plot_radius])\n",
    "plt.title('2D path')\n",
    "plt.savefig(\"/data/lijingfeng/pro/Visual-Selective-VIO/seq05gt.png\", bbox_inches='tight', pad_inches=0.1)\n"
   ]
  },
  {
   "cell_type": "code",
   "execution_count": 3,
   "metadata": {},
   "outputs": [
    {
     "name": "stdout",
     "output_type": "stream",
     "text": [
      "{'rgb': PatchedInputAdapter(), 'depth': PatchedInputAdapter()}\n"
     ]
    }
   ],
   "source": [
    "from functools import partial\n",
    "from pointnav_vo.mmae import *\n",
    "DOMAIN_CONF = {\n",
    "                'rgb': {\n",
    "                    'input_adapter': partial(PatchedInputAdapter, num_channels=3, stride_level=1),\n",
    "                    'output_adapter': partial(PatchedOutputAdapterXA, num_channels=3, stride_level=1),\n",
    "                    'loss': MaskedMSELoss,\n",
    "                },\n",
    "                'depth': {\n",
    "                    'input_adapter': partial(PatchedInputAdapter, num_channels=1, stride_level=1),\n",
    "                    'output_adapter': partial(PatchedOutputAdapterXA, num_channels=1, stride_level=1),\n",
    "                    'loss': MaskedMSELoss,\n",
    "                },\n",
    "                'semseg': {\n",
    "                    'input_adapter': partial(SemSegInputAdapter, num_classes=133,\n",
    "                                            dim_class_emb=64, interpolate_class_emb=False, stride_level=4),\n",
    "                    'output_adapter': partial(PatchedOutputAdapterXA, num_channels=133, stride_level=4),\n",
    "                    'loss': MaskedCrossEntropyLoss,\n",
    "                },\n",
    "            }\n",
    "input_adapters = {\n",
    "    domain: dinfo['input_adapter'](\n",
    "        patch_size_full = 16,\n",
    "    )\n",
    "    for domain, dinfo in DOMAIN_CONF.items()\n",
    "    if domain in ['rgb','depth']\n",
    "}\n",
    "print(input_adapters)"
   ]
  },
  {
   "cell_type": "code",
   "execution_count": 1,
   "metadata": {},
   "outputs": [
    {
     "name": "stderr",
     "output_type": "stream",
     "text": [
      "/data/lijingfeng/anaconda3/envs/SVIO/lib/python3.10/site-packages/tqdm/auto.py:22: TqdmWarning: IProgress not found. Please update jupyter and ipywidgets. See https://ipywidgets.readthedocs.io/en/stable/user_install.html\n",
      "  from .autonotebook import tqdm as notebook_tqdm\n"
     ]
    },
    {
     "name": "stdout",
     "output_type": "stream",
     "text": [
      "self.weight:cuda:1, self.bias:cuda:1, input:cuda:0\n"
     ]
    },
    {
     "ename": "RuntimeError",
     "evalue": "Expected all tensors to be on the same device, but found at least two devices, cuda:0 and cuda:1! (when checking argument for argument weight in method wrapper__native_layer_norm)",
     "output_type": "error",
     "traceback": [
      "\u001b[0;31m---------------------------------------------------------------------------\u001b[0m",
      "\u001b[0;31mRuntimeError\u001b[0m                              Traceback (most recent call last)",
      "Cell \u001b[0;32mIn[1], line 8\u001b[0m\n\u001b[1;32m      5\u001b[0m \u001b[39minput\u001b[39m \u001b[39m=\u001b[39m torch\u001b[39m.\u001b[39mrandn(\u001b[39m2\u001b[39m,\u001b[39m3\u001b[39m)\u001b[39m.\u001b[39mto(\u001b[39m'\u001b[39m\u001b[39mcuda:0\u001b[39m\u001b[39m'\u001b[39m)\n\u001b[1;32m      6\u001b[0m model\u001b[39m.\u001b[39mcuda(\u001b[39m1\u001b[39m)\n\u001b[0;32m----> 8\u001b[0m out \u001b[39m=\u001b[39m model(\u001b[39minput\u001b[39;49m)\n",
      "File \u001b[0;32m~/anaconda3/envs/SVIO/lib/python3.10/site-packages/torch/nn/modules/module.py:1194\u001b[0m, in \u001b[0;36mModule._call_impl\u001b[0;34m(self, *input, **kwargs)\u001b[0m\n\u001b[1;32m   1190\u001b[0m \u001b[39m# If we don't have any hooks, we want to skip the rest of the logic in\u001b[39;00m\n\u001b[1;32m   1191\u001b[0m \u001b[39m# this function, and just call forward.\u001b[39;00m\n\u001b[1;32m   1192\u001b[0m \u001b[39mif\u001b[39;00m \u001b[39mnot\u001b[39;00m (\u001b[39mself\u001b[39m\u001b[39m.\u001b[39m_backward_hooks \u001b[39mor\u001b[39;00m \u001b[39mself\u001b[39m\u001b[39m.\u001b[39m_forward_hooks \u001b[39mor\u001b[39;00m \u001b[39mself\u001b[39m\u001b[39m.\u001b[39m_forward_pre_hooks \u001b[39mor\u001b[39;00m _global_backward_hooks\n\u001b[1;32m   1193\u001b[0m         \u001b[39mor\u001b[39;00m _global_forward_hooks \u001b[39mor\u001b[39;00m _global_forward_pre_hooks):\n\u001b[0;32m-> 1194\u001b[0m     \u001b[39mreturn\u001b[39;00m forward_call(\u001b[39m*\u001b[39;49m\u001b[39minput\u001b[39;49m, \u001b[39m*\u001b[39;49m\u001b[39m*\u001b[39;49mkwargs)\n\u001b[1;32m   1195\u001b[0m \u001b[39m# Do not call functions when jit is used\u001b[39;00m\n\u001b[1;32m   1196\u001b[0m full_backward_hooks, non_full_backward_hooks \u001b[39m=\u001b[39m [], []\n",
      "File \u001b[0;32m~/anaconda3/envs/SVIO/lib/python3.10/site-packages/torch/nn/modules/normalization.py:191\u001b[0m, in \u001b[0;36mLayerNorm.forward\u001b[0;34m(self, input)\u001b[0m\n\u001b[1;32m    189\u001b[0m \u001b[39mdef\u001b[39;00m \u001b[39mforward\u001b[39m(\u001b[39mself\u001b[39m, \u001b[39minput\u001b[39m: Tensor) \u001b[39m-\u001b[39m\u001b[39m>\u001b[39m Tensor:\n\u001b[1;32m    190\u001b[0m     \u001b[39mprint\u001b[39m(\u001b[39mf\u001b[39m\u001b[39m\"\u001b[39m\u001b[39mself.weight:\u001b[39m\u001b[39m{\u001b[39;00m\u001b[39mself\u001b[39m\u001b[39m.\u001b[39mweight\u001b[39m.\u001b[39mdevice\u001b[39m}\u001b[39;00m\u001b[39m, self.bias:\u001b[39m\u001b[39m{\u001b[39;00m\u001b[39mself\u001b[39m\u001b[39m.\u001b[39mbias\u001b[39m.\u001b[39mdevice\u001b[39m}\u001b[39;00m\u001b[39m, input:\u001b[39m\u001b[39m{\u001b[39;00m\u001b[39minput\u001b[39m\u001b[39m.\u001b[39mdevice\u001b[39m}\u001b[39;00m\u001b[39m\"\u001b[39m)\n\u001b[0;32m--> 191\u001b[0m     \u001b[39mreturn\u001b[39;00m F\u001b[39m.\u001b[39;49mlayer_norm(\n\u001b[1;32m    192\u001b[0m         \u001b[39minput\u001b[39;49m, \u001b[39mself\u001b[39;49m\u001b[39m.\u001b[39;49mnormalized_shape, \u001b[39mself\u001b[39;49m\u001b[39m.\u001b[39;49mweight, \u001b[39mself\u001b[39;49m\u001b[39m.\u001b[39;49mbias, \u001b[39mself\u001b[39;49m\u001b[39m.\u001b[39;49meps)\n",
      "File \u001b[0;32m~/anaconda3/envs/SVIO/lib/python3.10/site-packages/torch/nn/functional.py:2515\u001b[0m, in \u001b[0;36mlayer_norm\u001b[0;34m(input, normalized_shape, weight, bias, eps)\u001b[0m\n\u001b[1;32m   2511\u001b[0m \u001b[39mif\u001b[39;00m has_torch_function_variadic(\u001b[39minput\u001b[39m, weight, bias):\n\u001b[1;32m   2512\u001b[0m     \u001b[39mreturn\u001b[39;00m handle_torch_function(\n\u001b[1;32m   2513\u001b[0m         layer_norm, (\u001b[39minput\u001b[39m, weight, bias), \u001b[39minput\u001b[39m, normalized_shape, weight\u001b[39m=\u001b[39mweight, bias\u001b[39m=\u001b[39mbias, eps\u001b[39m=\u001b[39meps\n\u001b[1;32m   2514\u001b[0m     )\n\u001b[0;32m-> 2515\u001b[0m \u001b[39mreturn\u001b[39;00m torch\u001b[39m.\u001b[39;49mlayer_norm(\u001b[39minput\u001b[39;49m, normalized_shape, weight, bias, eps, torch\u001b[39m.\u001b[39;49mbackends\u001b[39m.\u001b[39;49mcudnn\u001b[39m.\u001b[39;49menabled)\n",
      "\u001b[0;31mRuntimeError\u001b[0m: Expected all tensors to be on the same device, but found at least two devices, cuda:0 and cuda:1! (when checking argument for argument weight in method wrapper__native_layer_norm)"
     ]
    },
    {
     "ename": "",
     "evalue": "",
     "output_type": "error",
     "traceback": [
      "\u001b[1;31m在当前单元格或上一个单元格中执行代码时 Kernel 崩溃。请查看单元格中的代码，以确定故障的可能原因。有关详细信息，请单击 <a href='https://aka.ms/vscodeJupyterKernelCrash'>此处</a>。有关更多详细信息，请查看 Jupyter <a href='command:jupyter.viewOutput'>log</a>。"
     ]
    }
   ],
   "source": [
    "import torch\n",
    "import torch.nn as nn\n",
    "\n",
    "model = nn.LayerNorm(1,2,3)\n",
    "input = torch.randn(2,3).to('cuda:0')\n",
    "model.cuda(1)\n",
    "\n",
    "out = model(input)\n",
    "# prove model and input tensor must be the same device"
   ]
  }
 ],
 "metadata": {
  "kernelspec": {
   "display_name": "SVIO",
   "language": "python",
   "name": "python3"
  },
  "language_info": {
   "codemirror_mode": {
    "name": "ipython",
    "version": 3
   },
   "file_extension": ".py",
   "mimetype": "text/x-python",
   "name": "python",
   "nbconvert_exporter": "python",
   "pygments_lexer": "ipython3",
   "version": "3.10.9"
  },
  "orig_nbformat": 4
 },
 "nbformat": 4,
 "nbformat_minor": 2
}
