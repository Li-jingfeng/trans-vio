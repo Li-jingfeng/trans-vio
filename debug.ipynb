{
 "cells": [
  {
   "cell_type": "code",
   "execution_count": 6,
   "metadata": {},
   "outputs": [
    {
     "data": {
      "text/plain": [
       "torch.Size([81920, 2, 511])"
      ]
     },
     "execution_count": 6,
     "metadata": {},
     "output_type": "execute_result"
    }
   ],
   "source": [
    "import torch\n",
    "x = torch.ones(81920,2,512)\n",
    "y = torch.ones(1,2,512)\n",
    "x[:,:,1:].shape\n",
    "# z = x+y\n",
    "# print(z)"
   ]
  },
  {
   "cell_type": "code",
   "execution_count": null,
   "metadata": {},
   "outputs": [],
   "source": [
    "import torch\n",
    "from einops import rearrange\n",
    "\n",
    "a0 = torch.zeros(2,1,3,3)\n",
    "a1 = torch.ones(2,1,3,3)\n",
    "\n",
    "input = torch.cat([a0,a1],dim=1)\n",
    "out1 = rearrange(input, 'b t n d -> b (t n) d')\n",
    "out2 = rearrange(out1, 'b (t n) d -> b t n d',t=2,n=3)\n",
    "\n",
    "print('input',input)\n",
    "# print('out1',out1)\n",
    "print('out2',out2)\n"
   ]
  },
  {
   "cell_type": "code",
   "execution_count": 7,
   "metadata": {},
   "outputs": [
    {
     "name": "stdout",
     "output_type": "stream",
     "text": [
      "0\n"
     ]
    }
   ],
   "source": [
    "pre = None\n",
    "a = None\n",
    "if pre and a is None:\n",
    "    print(1)\n",
    "else:\n",
    "    print(0)"
   ]
  },
  {
   "cell_type": "code",
   "execution_count": null,
   "metadata": {},
   "outputs": [],
   "source": [
    "import matplotlib.pyplot as plt\n",
    "import numpy as np\n",
    "pose_abs, pose_rel = read_pose_from_text(\"/data/lijingfeng/pro/Visual-Selective-VIO/data/poses/05.txt\")\n",
    "pose_abs = np.array(pose_abs)\n",
    "pose_rel = np.array(pose_rel)\n",
    "x = pose_abs[:,0,3]\n",
    "y = pose_abs[:,1,3]\n",
    "z = pose_abs[:,2,3]\n",
    "\n",
    "#画图\n",
    "style_gt = 'r-'\n",
    "style_O = 'ko'\n",
    "plot_keys = [\"Ground Truth\", \"Ours\"]\n",
    "plt.plot(x, z, style_gt, label=plot_keys[0])\n",
    "start_point = [0, 0]\n",
    "ax = plt.gca()\n",
    "plt.plot(start_point[0], start_point[1], style_O, label='Start Point')\n",
    "plt.legend(loc=\"upper right\", prop={'size': 10})\n",
    "plt.xlabel('x (m)', fontsize=10)\n",
    "plt.ylabel('z (m)', fontsize=10)\n",
    "xlim = ax.get_xlim()\n",
    "ylim = ax.get_ylim()\n",
    "xmean = np.mean(xlim)\n",
    "ymean = np.mean(ylim)\n",
    "plot_radius = max([abs(lim - mean_)\n",
    "                   for lims, mean_ in ((xlim, xmean),\n",
    "                                       (ylim, ymean))\n",
    "                   for lim in lims])\n",
    "ax.set_xlim([xmean - plot_radius, xmean + plot_radius])\n",
    "ax.set_ylim([ymean - plot_radius, ymean + plot_radius])\n",
    "plt.title('2D path')\n",
    "plt.savefig(\"/data/lijingfeng/pro/Visual-Selective-VIO/seq05gt.png\", bbox_inches='tight', pad_inches=0.1)\n"
   ]
  }
 ],
 "metadata": {
  "kernelspec": {
   "display_name": "SVIO",
   "language": "python",
   "name": "python3"
  },
  "language_info": {
   "codemirror_mode": {
    "name": "ipython",
    "version": 3
   },
   "file_extension": ".py",
   "mimetype": "text/x-python",
   "name": "python",
   "nbconvert_exporter": "python",
   "pygments_lexer": "ipython3",
   "version": "3.10.9"
  },
  "orig_nbformat": 4
 },
 "nbformat": 4,
 "nbformat_minor": 2
}
