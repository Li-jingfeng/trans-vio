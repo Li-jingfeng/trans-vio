{
 "cells": [
  {
   "cell_type": "code",
   "execution_count": 9,
   "metadata": {},
   "outputs": [
    {
     "name": "stderr",
     "output_type": "stream",
     "text": [
      "Clipping input data to the valid range for imshow with RGB data ([0..1] for floats or [0..255] for integers).\n"
     ]
    },
    {
     "data": {
      "image/png": "[encoded data removed]",
      "text/plain": [
       "<Figure size 640x480 with 1 Axes>"
      ]
     },
     "metadata": {},
     "output_type": "display_data"
    },
    {
     "name": "stdout",
     "output_type": "stream",
     "text": [
      "(27, 60, 3)\n"
     ]
    }
   ],
   "source": [
    "from sklearn.decomposition import PCA\n",
    "import numpy as np\n",
    "import matplotlib.pyplot as plt\n",
    "import torch\n",
    "def calc_pca(emb, vis=False):\n",
    "    X = emb.flatten(0, -2).cpu().numpy()\n",
    "    np.random.seed(80)\n",
    "    pca = PCA(n_components=3)\n",
    "    pca.fit(X)\n",
    "    X_rgb = pca.transform(X).reshape(*emb.shape[:2], 3)\n",
    "    if vis:\n",
    "        plt.imshow(X_rgb)\n",
    "        plt.axis(\"off\")\n",
    "        plt.show()\n",
    "    return X_rgb\n",
    "\n",
    "# agg_feat_2d = np.load(\"out/agg_feat_2d.npy\")\n",
    "# agg_feat_2d = torch.from_numpy(agg_feat_2d)\n",
    "# calc_pca(agg_feat_2d, vis=True)\n",
    "\n",
    "# cnn_feat_2d = np.load('fig/cnn_feat_2d_out_conv2.npy')# [b, c, h, w]\n",
    "# cnn_feat_2d = torch.from_numpy(cnn_feat_2d[0]).permute(1,2,0)\n",
    "# res = calc_pca(cnn_feat_2d, vis=True)\n",
    "\n",
    "cnn_feat_2d = np.load('B_H_W_-1.npy')# [b, c, h, w]\n",
    "cnn_feat_2d = torch.from_numpy(cnn_feat_2d[0])\n",
    "res = calc_pca(cnn_feat_2d, vis=True)\n",
    "print(res.shape)"
   ]
  },
  {
   "cell_type": "code",
   "execution_count": 11,
   "metadata": {},
   "outputs": [
    {
     "name": "stdout",
     "output_type": "stream",
     "text": [
      "原始图像：\n",
      "torch.Size([2, 1, 3, 3])\n",
      "降采样后的图像：\n",
      "torch.Size([2, 1, 1, 1])\n"
     ]
    }
   ],
   "source": [
    "import torch\n",
    "import torch.nn.functional as F\n",
    "\n",
    "# 创建一个示例图像，假设为 (batch_size, channels, height, width)\n",
    "image = torch.tensor([\n",
    "    [[[1, 2, 3], [4, 5, 6], [7, 8, 9]]],  # 一个示例图像\n",
    "    [[[10, 11, 12], [13, 14, 15], [16, 17, 18]]]\n",
    "], dtype=torch.float32)\n",
    "\n",
    "# 应用平均池化降采样\n",
    "pool_size = 2  # 池化窗口大小\n",
    "avg_pooled_image = F.avg_pool2d(image, pool_size)\n",
    "\n",
    "print(\"原始图像：\")\n",
    "print(image.shape)\n",
    "print(\"降采样后的图像：\")\n",
    "print(avg_pooled_image.shape)\n"
   ]
  }
 ],
 "metadata": {
  "kernelspec": {
   "display_name": "SVIO",
   "language": "python",
   "name": "python3"
  },
  "language_info": {
   "codemirror_mode": {
    "name": "ipython",
    "version": 3
   },
   "file_extension": ".py",
   "mimetype": "text/x-python",
   "name": "python",
   "nbconvert_exporter": "python",
   "pygments_lexer": "ipython3",
   "version": "3.10.9"
  },
  "orig_nbformat": 4
 },
 "nbformat": 4,
 "nbformat_minor": 2
}
