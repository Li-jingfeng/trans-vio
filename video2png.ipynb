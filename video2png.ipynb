{
 "cells": [
  {
   "cell_type": "code",
   "execution_count": 6,
   "metadata": {},
   "outputs": [],
   "source": [
    "import cv2\n",
    "\n",
    "video_path = '/disk1/lijingfeng/pro/trans-vio/data/record_video/video/line.avi'  # 视频地址\n",
    "output_path = '/disk1/lijingfeng/pro/trans-vio/data/record_video/image_data/line/'  # 输出文件夹\n",
    "interval = 10  # 每间隔10帧取一张图片\n",
    "\n",
    "if __name__ == '__main__':\n",
    "    num = 1\n",
    "    index = 0\n",
    "    vid = cv2.VideoCapture(video_path)\n",
    "    while vid.isOpened():\n",
    "        is_read, frame = vid.read()\n",
    "        if is_read:\n",
    "            if num>210 and num<4860:\n",
    "                if num % interval == 1:\n",
    "                    file_name = '%06d' % index\n",
    "                    cv2.imwrite(output_path + str(file_name) + '.png', frame)\n",
    "                    # 00000111.jpg 代表第111帧\n",
    "                    cv2.waitKey(1)\n",
    "                    index += 1\n",
    "            num += 1\n",
    "\n",
    "        else:\n",
    "            break\n"
   ]
  },
  {
   "cell_type": "code",
   "execution_count": 6,
   "metadata": {},
   "outputs": [
    {
     "name": "stdout",
     "output_type": "stream",
     "text": [
      "(11001, 6)\n",
      "[[-5.27640760e-01 -4.07922781e+00  9.88171206e+00  1.87872780e-02\n",
      "  -1.08574970e-02 -4.12006398e-01]\n",
      " [-4.95851551e-01 -4.10129371e+00  9.96578793e+00  1.94426972e-02\n",
      "  -1.46089016e-02 -4.12467638e-01]\n",
      " [-4.42346529e-01 -4.06865467e+00  1.00336654e+01  2.14195654e-02\n",
      "  -1.64344669e-02 -4.12284549e-01]\n",
      " ...\n",
      " [ 9.96238792e-01 -1.06570535e-01  9.89516150e+00  8.77644762e-03\n",
      "   2.27809354e-02 -1.92022719e-02]\n",
      " [ 9.65941965e-01 -8.46056249e-02  9.73993348e+00  1.07354489e-02\n",
      "   2.53968795e-02 -1.89044225e-02]\n",
      " [ 9.28081481e-01 -1.22096895e-01  9.60194713e+00  1.08772782e-02\n",
      "   2.63843389e-02 -1.88664429e-02]]\n",
      "{'__header__': b'MATLAB 5.0 MAT-file, Platform: PCWIN64, Created on: Tue Jun  8 12:50:26 2021', '__version__': '1.0', '__globals__': [], 'imu_data_interp': array([[-5.27640760e-01, -4.07922781e+00,  9.88171206e+00,\n",
      "         1.87872780e-02, -1.08574970e-02, -4.12006398e-01],\n",
      "       [-4.95851551e-01, -4.10129371e+00,  9.96578793e+00,\n",
      "         1.94426972e-02, -1.46089016e-02, -4.12467638e-01],\n",
      "       [-4.42346529e-01, -4.06865467e+00,  1.00336654e+01,\n",
      "         2.14195654e-02, -1.64344669e-02, -4.12284549e-01],\n",
      "       ...,\n",
      "       [ 9.96238792e-01, -1.06570535e-01,  9.89516150e+00,\n",
      "         8.77644762e-03,  2.27809354e-02, -1.92022719e-02],\n",
      "       [ 9.65941965e-01, -8.46056249e-02,  9.73993348e+00,\n",
      "         1.07354489e-02,  2.53968795e-02, -1.89044225e-02],\n",
      "       [ 9.28081481e-01, -1.22096895e-01,  9.60194713e+00,\n",
      "         1.08772782e-02,  2.63843389e-02, -1.88664429e-02]])}\n"
     ]
    }
   ],
   "source": [
    "# 打印kitti中imu.mat文件\n",
    "import scipy.io\n",
    "\n",
    "# 读取.mat文件\n",
    "mat_data = scipy.io.loadmat('./data/imus/01.mat')\n",
    "a = mat_data['imu_data_interp']\n",
    "print(a.shape)\n",
    "print(mat_data['imu_data_interp'])\n",
    "# 打印读取的数据\n",
    "print(mat_data)\n"
   ]
  },
  {
   "cell_type": "code",
   "execution_count": 12,
   "metadata": {},
   "outputs": [
    {
     "name": "stdout",
     "output_type": "stream",
     "text": [
      "[-0.43459635  0.11518229 -2.95135808]\n"
     ]
    }
   ],
   "source": [
    "from scipy.spatial.transform import Rotation as R\n",
    " \n",
    "def quaternion2euler(quaternion):\n",
    "    r = R.from_quat(quaternion)\n",
    "    euler = r.as_euler('xyz', degrees=True)\n",
    "    return euler\n",
    " \n",
    "quaternion = [0.03551,0.21960,-0.96928, 0.10494]\n",
    "\n",
    "print(quaternion2euler(quaternion)/180*3.1415926)"
   ]
  },
  {
   "cell_type": "code",
   "execution_count": 10,
   "metadata": {},
   "outputs": [
    {
     "name": "stdout",
     "output_type": "stream",
     "text": [
      "(-0.43459688882747416, 0.11518243212031384, -2.9513583650490154)\n"
     ]
    }
   ],
   "source": [
    "import math\n",
    "def quart_to_rpy(x, y, z, w):\n",
    "    roll = math.atan2(2 * (w * x + y * z), 1 - 2 * (x * x + y * y))\n",
    "    pitch = math.asin(2 * (w * y - x * z))\n",
    "    yaw = math.atan2(2 * (w * z + x * y), 1 - 2 * (z * z + y * y))\n",
    "    return roll, pitch, yaw\n",
    "\n",
    "print(quart_to_rpy(0.03551,0.21960,-0.96928,0.10494))\n",
    "# 使用 tf 库\n",
    "# import tf\n",
    "# (r, p, y) = tf.transformations.euler_from_quaternion([0.03551,0.21960,-0.96928, 0.10494])"
   ]
  }
 ],
 "metadata": {
  "kernelspec": {
   "display_name": "SVIO",
   "language": "python",
   "name": "python3"
  },
  "language_info": {
   "codemirror_mode": {
    "name": "ipython",
    "version": 3
   },
   "file_extension": ".py",
   "mimetype": "text/x-python",
   "name": "python",
   "nbconvert_exporter": "python",
   "pygments_lexer": "ipython3",
   "version": "3.10.9"
  },
  "orig_nbformat": 4
 },
 "nbformat": 4,
 "nbformat_minor": 2
}
